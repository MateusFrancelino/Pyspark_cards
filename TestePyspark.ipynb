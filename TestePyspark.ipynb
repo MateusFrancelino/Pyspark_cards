{
 "cells": [
  {
   "cell_type": "code",
   "execution_count": 1,
   "metadata": {},
   "outputs": [],
   "source": [
    "import os\n",
    "import json\n",
    "from pyspark.sql import SparkSession\n",
    "from pyspark.sql import Row\n",
    "from pyspark.sql.types import IntegerType, DecimalType\n",
    "from pyspark.sql.functions import udf, current_date,  to_date, date_format, lit\n",
    "from pyspark.sql.types import BinaryType\n",
    "import uuid\n",
    "\n"
   ]
  },
  {
   "cell_type": "code",
   "execution_count": 2,
   "metadata": {},
   "outputs": [],
   "source": [
    "os.environ['JAVA_HOME'] = r'C:\\Program Files\\Java\\jdk1.8.0_202'\n",
    "os.environ['PATH'] = os.environ['JAVA_HOME'] + r'\\bin;' + os.environ['PATH']\n",
    "driver_path = \"C:/ocDB/WINDOWS.X64_193000_db_home/jdbc/lib/ojdbc8.jar\"\n",
    "connection_url = \"jdbc:oracle:thin:@//localhost:1521/orcl\"\n",
    "user = \"sys as SYSDBA\"\n",
    "password = \"root\"\n",
    "directory = \"Volumes/dev/tiintegracao/team/cartoes/cext\"\n",
    "start_pattern = \"CEXT_756\"\n",
    "end_extension = \".CCB\""
   ]
  },
  {
   "cell_type": "code",
   "execution_count": 3,
   "metadata": {},
   "outputs": [],
   "source": [
    "spark = SparkSession.builder \\\n",
    "    .appName(\"Exemplo de Spark JDBC com Oracle\") \\\n",
    "    .config(\"spark.driver.extraClassPath\", driver_path) \\\n",
    "    .getOrCreate()"
   ]
  },
  {
   "cell_type": "code",
   "execution_count": 4,
   "metadata": {},
   "outputs": [],
   "source": [
    "def add_uuid(df,col_name):\n",
    "    \n",
    "    def uuid_bytes():\n",
    "        return uuid.uuid4().bytes\n",
    "\n",
    "    \n",
    "    udf_uuid_bytes = udf(uuid_bytes, BinaryType())\n",
    "\n",
    "    \n",
    "    df_with_uuid = df.withColumn(col_name, udf_uuid_bytes())\n",
    "\n",
    "    return df_with_uuid"
   ]
  },
  {
   "cell_type": "code",
   "execution_count": 5,
   "metadata": {},
   "outputs": [],
   "source": [
    "def queryData(query):\n",
    "    df = spark.read.format(\"jdbc\") \\\n",
    "        .option(\"url\", connection_url) \\\n",
    "        .option(\"driver\", \"oracle.jdbc.OracleDriver\") \\\n",
    "        .option(\"query\", query) \\\n",
    "        .option(\"user\", user) \\\n",
    "        .option(\"password\", password) \\\n",
    "        .load()\n",
    "    return df"
   ]
  },
  {
   "cell_type": "code",
   "execution_count": 6,
   "metadata": {},
   "outputs": [],
   "source": [
    "def process_file(filepath,file_name):\n",
    "    rows = []\n",
    "    with open(filepath, 'r') as file:\n",
    "        lines = file.readlines()\n",
    "        line_count = 1\n",
    "        for line in lines[1:-1]: \n",
    "            card_number = line[6:25].strip() \n",
    "            date = line[34:42].strip()\n",
    "            rows.append({ \n",
    "                          \"card_number\": card_number,\n",
    "                          \"date\": date,\n",
    "                          \"line_content\":line,\n",
    "                          \"file_name\":file_name,\n",
    "                          \"line_number\":line_count})\n",
    "            line_count+=1\n",
    "    return rows"
   ]
  },
  {
   "cell_type": "code",
   "execution_count": 7,
   "metadata": {},
   "outputs": [],
   "source": [
    "\n",
    "def filter_files(directory, start_pattern, end_extension):\n",
    "    filtered_files = []\n",
    "    \n",
    "    for filename in os.listdir(directory):\n",
    "        if filename.startswith(start_pattern) and filename.endswith(end_extension):\n",
    "            filepath = os.path.join(directory, filename)\n",
    "            with open(filepath, 'r') as file:\n",
    "                lines = file.readlines()\n",
    "                if lines[0].startswith(\"CEXT0\") and lines[-1].startswith(\"CEXT9\"):\n",
    "                    filtered_files.append(filename)\n",
    "    \n",
    "    return filtered_files"
   ]
  },
  {
   "cell_type": "code",
   "execution_count": null,
   "metadata": {},
   "outputs": [],
   "source": []
  },
  {
   "cell_type": "code",
   "execution_count": 8,
   "metadata": {},
   "outputs": [],
   "source": [
    "files_list = filter_files(directory, start_pattern, end_extension)"
   ]
  },
  {
   "cell_type": "code",
   "execution_count": 9,
   "metadata": {},
   "outputs": [
    {
     "data": {
      "text/plain": [
       "['CEXT_7562011_20240125_0002504.CCB']"
      ]
     },
     "metadata": {},
     "output_type": "display_data"
    }
   ],
   "source": [
    "display(files_list)"
   ]
  },
  {
   "cell_type": "code",
   "execution_count": 10,
   "metadata": {},
   "outputs": [],
   "source": [
    "all_rows = []\n",
    "for file in files_list:\n",
    "    all_rows.extend(process_file(directory+'/'+file,file))"
   ]
  },
  {
   "cell_type": "code",
   "execution_count": 11,
   "metadata": {},
   "outputs": [],
   "source": [
    "with open(\"data.json\", \"w\") as f:\n",
    "    json.dump(all_rows, f)"
   ]
  },
  {
   "cell_type": "code",
   "execution_count": 12,
   "metadata": {},
   "outputs": [],
   "source": [
    "df_transactions = spark.createDataFrame(all_rows)\n",
    "df_transactions = df_transactions.withColumn(\"card_number\", df_transactions[\"card_number\"].cast(DecimalType(16, 0)))"
   ]
  },
  {
   "cell_type": "code",
   "execution_count": 13,
   "metadata": {},
   "outputs": [
    {
     "name": "stdout",
     "output_type": "stream",
     "text": [
      "+----------------+--------+--------------------+--------------------+-----------+\n",
      "|     card_number|    date|           file_name|        line_content|line_number|\n",
      "+----------------+--------+--------------------+--------------------+-----------+\n",
      "|5151070044381239|20230612|CEXT_7562011_2024...|75600051510700443...|          1|\n",
      "|5151070044381239|20230612|CEXT_7562011_2024...|75600051510700443...|          2|\n",
      "|5151070044381239|20230612|CEXT_7562011_2024...|75600051510700443...|          3|\n",
      "|5151070432093151|20230612|CEXT_7562011_2024...|75600051510704320...|          4|\n",
      "|5151070432093151|20230612|CEXT_7562011_2024...|75600051510704320...|          5|\n",
      "|5151070432093151|20230612|CEXT_7562011_2024...|75600051510704320...|          6|\n",
      "|5151070432093151|20230612|CEXT_7562011_2024...|75600051510704320...|          7|\n",
      "|5151940230409696|20230612|CEXT_7562011_2024...|75600051519402304...|          8|\n",
      "|5151940230409696|20230612|CEXT_7562011_2024...|75600051519402304...|          9|\n",
      "|5151070044387015|20230612|CEXT_7562011_2024...|75600051510700443...|         10|\n",
      "+----------------+--------+--------------------+--------------------+-----------+\n",
      "\n"
     ]
    }
   ],
   "source": [
    "df_transactions.show()"
   ]
  },
  {
   "cell_type": "code",
   "execution_count": 14,
   "metadata": {},
   "outputs": [],
   "source": [
    "df_cards = queryData('SELECT * FROM CARTOES.TB_CARTAO')\n",
    "df_control = queryData(\"\"\"\n",
    "        SELECT IDARQUIVO_CONTROLE \n",
    "        FROM CARTOES.TB_ARQUIVO_CONTROLE \n",
    "        WHERE NRARQUIVO = 2\n",
    "        \"\"\")"
   ]
  },
  {
   "cell_type": "code",
   "execution_count": 15,
   "metadata": {},
   "outputs": [],
   "source": [
    "df_join = df_transactions.join(df_cards, df_transactions[\"card_number\"] == df_cards[\"NRCARTAO\"], \"inner\")\n",
    "df_transactions = df_join.select(\"date\", \"card_number\",\"file_name\",\"line_content\",\"line_number\")\n",
    "del df_join"
   ]
  },
  {
   "cell_type": "code",
   "execution_count": 16,
   "metadata": {},
   "outputs": [],
   "source": [
    "df_transactions\n",
    "df_transactions = df_transactions.withColumn('date_now', current_date()) \\\n",
    "                                 .withColumn(\"date\", to_date(df_transactions[\"date\"], \"yyyyMMdd\"))\n",
    "df_transactions = df_transactions.withColumn(\"date\", date_format(df_transactions[\"date\"], \"dd-MM-yyyy\")) \\\n",
    "                                 .withColumn(\"date_now\", date_format(df_transactions[\"date_now\"], \"dd-MM-yyyy\"))\n",
    "\n",
    "df_transactions = df_transactions.withColumn('IDARQUIVO', lit(uuid.uuid4().bytes))\n",
    "df_transactions = df_transactions.withColumn('CDSITUACAO', lit(1))\n",
    "\n",
    "df_transactions = add_uuid(df_transactions,\"IDARQUIVO_LINHA\")"
   ]
  },
  {
   "cell_type": "code",
   "execution_count": 17,
   "metadata": {},
   "outputs": [
    {
     "name": "stdout",
     "output_type": "stream",
     "text": [
      "+----------+----------------+--------------------+--------------------+-----------+----------+--------------------+----------+--------------------+\n",
      "|      date|     card_number|           file_name|        line_content|line_number|  date_now|           IDARQUIVO|CDSITUACAO|     IDARQUIVO_LINHA|\n",
      "+----------+----------------+--------------------+--------------------+-----------+----------+--------------------+----------+--------------------+\n",
      "|12-06-2023|5151070044381239|CEXT_7562011_2024...|75600051510700443...|          1|06-06-2024|[51 5B 1D F1 53 3...|         1|[DE EC E0 B5 38 8...|\n",
      "|12-06-2023|5151070044381239|CEXT_7562011_2024...|75600051510700443...|          2|06-06-2024|[51 5B 1D F1 53 3...|         1|[8D D2 F0 25 94 C...|\n",
      "|12-06-2023|5151070044381239|CEXT_7562011_2024...|75600051510700443...|          3|06-06-2024|[51 5B 1D F1 53 3...|         1|[40 F2 1F 73 97 B...|\n",
      "|12-06-2023|5151070044387015|CEXT_7562011_2024...|75600051510700443...|         10|06-06-2024|[51 5B 1D F1 53 3...|         1|[34 34 CD E8 FB 5...|\n",
      "+----------+----------------+--------------------+--------------------+-----------+----------+--------------------+----------+--------------------+\n",
      "\n"
     ]
    }
   ],
   "source": [
    "df_transactions.show()"
   ]
  },
  {
   "cell_type": "code",
   "execution_count": 18,
   "metadata": {},
   "outputs": [],
   "source": [
    "df_archive = df_transactions.withColumnRenamed('file_name', 'NMARQUIVO') \\\n",
    "                            .withColumnRenamed('date', 'DTARQUIVO') \\\n",
    "                            .withColumnRenamed('date_now', 'DHREGISTRO') \\\n",
    "                            .drop(\"card_number\") \\\n",
    "                            .drop(\"line_content\") \\\n",
    "                            .drop(\"IDARQUIVO_LINHA\") \\\n",
    "                            .drop(\"line_number\") \\\n",
    "                            .drop(\"CDSITUACAO\")\n",
    "                            \n",
    "df_archive_line = df_transactions.drop(\"card_number\")\\\n",
    "                                 .drop(\"file_name\")\\\n",
    "                                 .withColumnRenamed('line_content', 'DSCONTEUDO') \\\n",
    "                                 .withColumnRenamed('date', 'DTPROCESSO') \\\n",
    "                                 .withColumnRenamed('line_number', 'NRLINHA') \\\n",
    "                                 .withColumnRenamed('date_now', 'DHREGISTRO') \\\n",
    "                                 "
   ]
  },
  {
   "cell_type": "code",
   "execution_count": 19,
   "metadata": {},
   "outputs": [
    {
     "name": "stdout",
     "output_type": "stream",
     "text": [
      "+----------+--------------------+-------+----------+--------------------+----------+--------------------+\n",
      "|DTPROCESSO|          DSCONTEUDO|NRLINHA|DHREGISTRO|           IDARQUIVO|CDSITUACAO|     IDARQUIVO_LINHA|\n",
      "+----------+--------------------+-------+----------+--------------------+----------+--------------------+\n",
      "|12-06-2023|75600051510700443...|      1|06-06-2024|[51 5B 1D F1 53 3...|         1|[DA ED D2 62 CD C...|\n",
      "|12-06-2023|75600051510700443...|      2|06-06-2024|[51 5B 1D F1 53 3...|         1|[8A 2C B0 0C 20 7...|\n",
      "|12-06-2023|75600051510700443...|      3|06-06-2024|[51 5B 1D F1 53 3...|         1|[04 34 B5 37 F0 2...|\n",
      "|12-06-2023|75600051510700443...|     10|06-06-2024|[51 5B 1D F1 53 3...|         1|[0B 73 72 C0 C6 3...|\n",
      "+----------+--------------------+-------+----------+--------------------+----------+--------------------+\n",
      "\n"
     ]
    }
   ],
   "source": [
    "df_archive_line.show()"
   ]
  },
  {
   "cell_type": "markdown",
   "metadata": {},
   "source": []
  },
  {
   "cell_type": "code",
   "execution_count": 20,
   "metadata": {},
   "outputs": [],
   "source": [
    "df_archive = df_archive.crossJoin(df_control)"
   ]
  },
  {
   "cell_type": "code",
   "execution_count": 21,
   "metadata": {},
   "outputs": [
    {
     "name": "stdout",
     "output_type": "stream",
     "text": [
      "+----------+--------------------+----------+--------------------+--------------------+\n",
      "| DTARQUIVO|           NMARQUIVO|DHREGISTRO|           IDARQUIVO|  IDARQUIVO_CONTROLE|\n",
      "+----------+--------------------+----------+--------------------+--------------------+\n",
      "|12-06-2023|CEXT_7562011_2024...|06-06-2024|[51 5B 1D F1 53 3...|[FF 95 CE C4 CE 7...|\n",
      "+----------+--------------------+----------+--------------------+--------------------+\n",
      "\n"
     ]
    }
   ],
   "source": [
    "df_archive = df_archive.distinct()\n",
    "df_archive.show()"
   ]
  },
  {
   "cell_type": "code",
   "execution_count": 22,
   "metadata": {},
   "outputs": [],
   "source": [
    "df_archive.write.jdbc(\n",
    "        url=connection_url,\n",
    "        table=\"CARTOES.TB_ARQUIVO\",\n",
    "        mode=\"append\",\n",
    "        properties={\"user\": user, \"password\": password, \"driver\": \"oracle.jdbc.driver.OracleDriver\"}\n",
    "    )"
   ]
  },
  {
   "cell_type": "code",
   "execution_count": 23,
   "metadata": {},
   "outputs": [],
   "source": [
    "df_archive_line.write.jdbc(\n",
    "        url=connection_url,\n",
    "        table=\"CARTOES.TB_ARQUIVO_LINHA\",\n",
    "        mode=\"append\",\n",
    "        properties={\"user\": user, \"password\": password, \"driver\": \"oracle.jdbc.driver.OracleDriver\"}\n",
    "    )"
   ]
  }
 ],
 "metadata": {
  "kernelspec": {
   "display_name": "Python 3",
   "language": "python",
   "name": "python3"
  },
  "language_info": {
   "codemirror_mode": {
    "name": "ipython",
    "version": 3
   },
   "file_extension": ".py",
   "mimetype": "text/x-python",
   "name": "python",
   "nbconvert_exporter": "python",
   "pygments_lexer": "ipython3",
   "version": "3.11.7"
  }
 },
 "nbformat": 4,
 "nbformat_minor": 2
}
